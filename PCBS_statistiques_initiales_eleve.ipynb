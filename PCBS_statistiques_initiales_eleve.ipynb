{
 "cells": [
  {
   "cell_type": "markdown",
   "metadata": {},
   "source": [
    "# Analyse des résultats de l'élève au prétest\n",
    "Voici un script permettant de faire un état des lieux du niveau de l'élève en fonction de ses résultats au prétest. Ces résultats serviront à définir les poids initiaux associés à chaque catégorie d'apprentissage dans le script PCBS_apprendre_a_calculer.py ."
   ]
  },
  {
   "cell_type": "code",
   "execution_count": 1,
   "metadata": {},
   "outputs": [],
   "source": [
    "with open('donnees_eleve.txt', 'r') as mon_fichier:\n",
    "    lignes=mon_fichier.readlines()\n",
    "\n",
    "don_eleve=[]\n",
    "\n",
    "for ligne in lignes:\n",
    "   ligne = ligne.replace(\"\\n\", \"\")\n",
    "   donnees = ligne.split('\\t')\n",
    "   don_eleve.append(donnees)"
   ]
  },
  {
   "cell_type": "code",
   "execution_count": 6,
   "metadata": {},
   "outputs": [
    {
     "name": "stdout",
     "output_type": "stream",
     "text": [
      "[['Exercice1', 'Langage', 7, 7, 'A'], ['Exercice2', 'Classique', 4, 4, 'S'], ['Exercice3', 'Classique', 8, 8, 'A'], ['Exercice4', 'Classique', 18, 19, 'S'], ['Exercice5', 'Classique', 21, 23, 'N'], ['Exercice6', 'Incongruent', 3, 7, 'A'], ['Exercice7', 'Incongruent', 23, 23, 'A'], ['Exercice8', 'Incongruent', 7, 7, 'Autre'], ['Exercice9', 'Incongruent', 4, 4, 'N'], ['Exercice10', 'Incongruent', 18, 18, 'Autre']]\n"
     ]
    }
   ],
   "source": [
    "import matplotlib.pyplot as plt\n",
    "import numpy as np\n",
    "\n",
    "numexo=0\n",
    "typeitem=1\n",
    "corexo=2\n",
    "repeleve=3\n",
    "strategie=4\n",
    "nb_exos=len(don_eleve)\n",
    "\n",
    "for exo in range(nb_exos):\n",
    "    don_eleve[exo][corexo]=int(don_eleve[exo][corexo])\n",
    "    don_eleve[exo][repeleve]=int(don_eleve[exo][repeleve])\n",
    "    \n",
    "print(don_eleve)"
   ]
  },
  {
   "cell_type": "markdown",
   "metadata": {},
   "source": [
    "## Calcul du nombre d'items dans chaque catégorie"
   ]
  },
  {
   "cell_type": "code",
   "execution_count": 8,
   "metadata": {},
   "outputs": [],
   "source": [
    "nb_exo_par_cat=[0]*4\n",
    "nb_exo_par_cat[0]=nb_exos\n",
    "\n",
    "for exo in range(len(don_eleve)):\n",
    "    if don_eleve[exo][typeitem]=='Langage':  \n",
    "        nb_exo_par_cat[1]+=1\n",
    "    elif don_eleve[exo][typeitem]=='Classique':\n",
    "        nb_exo_par_cat[2]+=1\n",
    "    elif don_eleve[exo][typeitem]=='Incongruent':\n",
    "        nb_exo_par_cat[3]+=1"
   ]
  },
  {
   "cell_type": "markdown",
   "metadata": {},
   "source": [
    "## Calcul des scores"
   ]
  },
  {
   "cell_type": "code",
   "execution_count": 9,
   "metadata": {},
   "outputs": [],
   "source": [
    "score_global=0\n",
    "score_langage=0\n",
    "score_classique=0\n",
    "score_incongruent=0\n",
    "\n",
    "for exo in range(len(don_eleve)):\n",
    "    if don_eleve[exo][repeleve]==don_eleve[exo][corexo]:\n",
    "        score_global+=1\n",
    "        \n",
    "        if don_eleve[exo][typeitem]=='Langage':  #comment faire pour enlever l'espace après??\n",
    "            score_langage+=1\n",
    "        elif don_eleve[exo][typeitem]=='Classique':\n",
    "            score_classique+=1\n",
    "        elif don_eleve[exo][typeitem]=='Incongruent':\n",
    "            score_incongruent+=1\n",
    "            "
   ]
  },
  {
   "cell_type": "markdown",
   "metadata": {},
   "source": [
    "Affichage graphique"
   ]
  },
  {
   "cell_type": "code",
   "execution_count": 10,
   "metadata": {},
   "outputs": [
    {
     "data": {
      "text/plain": [
       "Text(0.5,1,\"Résultats en fonction de la catégorie de l'item\")"
      ]
     },
     "execution_count": 10,
     "metadata": {},
     "output_type": "execute_result"
    },
    {
     "data": {
      "image/png": "[encoded data removed]",
      "text/plain": [
       "<Figure size 432x288 with 1 Axes>"
      ]
     },
     "metadata": {},
     "output_type": "display_data"
    }
   ],
   "source": [
    "items=['Global','Langage','Classique','Incongruent']\n",
    "scores=[score_global,score_langage, score_classique, score_incongruent]\n",
    "width=1\n",
    "b1=plt.bar(items, nb_exo_par_cat, width, color='grey' )\n",
    "b2=plt.bar(items, scores, width, color='g' )\n",
    "plt.legend([b1,b2],['nb total de réponses','nb de réponses correctes'])\n",
    "plt.title(\"Résultats en fonction de la catégorie de l'item\")\n",
    "#plt.savefig('Resultat_eleve.png')"
   ]
  },
  {
   "cell_type": "markdown",
   "metadata": {},
   "source": [
    "Affichage des pourcentages de réussite"
   ]
  },
  {
   "cell_type": "code",
   "execution_count": 12,
   "metadata": {},
   "outputs": [
    {
     "data": {
      "image/png": "[encoded data removed]",
      "text/plain": [
       "<Figure size 432x288 with 1 Axes>"
      ]
     },
     "metadata": {},
     "output_type": "display_data"
    }
   ],
   "source": [
    "pourcentage_reussite=[]\n",
    "pourcentage_reussite_eleve= open(\"poids_initiaux.txt\", \"w\")\n",
    "\n",
    "for categorie in range(len(scores)):\n",
    "    pourcentage_cat = scores[categorie]/nb_exo_par_cat[categorie]*100\n",
    "    pourcentage_reussite.append(pourcentage_cat)\n",
    "\n",
    "les_poids=[str(pourcentage_reussite[0])+\"\\t\",\n",
    "           str(pourcentage_reussite[1])+\"\\t\",\n",
    "           str(pourcentage_reussite[2])+\"\\t\",\n",
    "           str(pourcentage_reussite[3])]\n",
    "pourcentage_reussite_eleve.writelines(les_poids)\n",
    "\n",
    "pourcentage_reussite_eleve.close()\n",
    "\n",
    "items=['Global','Langage','Classique','Incongruent']\n",
    "\n",
    "b3=plt.bar(items, pourcentage_reussite, width, color='b' )\n",
    "\n",
    "plt.title(\"Pourcentages de réussite par catégories\")\n",
    "#plt.savefig('Resultat_eleve.png')\n"
   ]
  },
  {
   "cell_type": "markdown",
   "metadata": {},
   "source": [
    "Ce sont ces pourcentages que j'enregistre et qui seront utilisés dans mon dernier script"
   ]
  },
  {
   "cell_type": "code",
   "execution_count": null,
   "metadata": {},
   "outputs": [],
   "source": []
  }
 ],
 "metadata": {
  "kernelspec": {
   "display_name": "Python 3",
   "language": "python",
   "name": "python3"
  },
  "language_info": {
   "codemirror_mode": {
    "name": "ipython",
    "version": 3
   },
   "file_extension": ".py",
   "mimetype": "text/x-python",
   "name": "python",
   "nbconvert_exporter": "python",
   "pygments_lexer": "ipython3",
   "version": "3.6.5"
  }
 },
 "nbformat": 4,
 "nbformat_minor": 2
}
